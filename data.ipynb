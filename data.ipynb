{
 "cells": [
  {
   "cell_type": "code",
   "execution_count": 6,
   "id": "03abdb87-b228-49b6-be0c-4f347fc29407",
   "metadata": {},
   "outputs": [],
   "source": [
    "# import packages\n",
    "import geopandas as gpd\n",
    "import os\n",
    "from requests import get\n",
    "from urllib.parse import urlparse\n",
    "import pandas as pd"
   ]
  },
  {
   "cell_type": "code",
   "execution_count": 7,
   "id": "4b5d3685-f508-4e79-80f8-f95f16b8558b",
   "metadata": {},
   "outputs": [],
   "source": [
    "def cache_data(src:str, dest:str) -> str:\n",
    "    \"\"\"\n",
    "    Downloads a file from the given URL `src` and saves it to the `dest` directory.\n",
    "    If the file already exists and is of sufficient size, skips the download.\n",
    "    \n",
    "    Args:\n",
    "        src (str): The source URL of the file to be downloaded.\n",
    "        dest (str): The destination directory where the file will be saved.\n",
    "        \n",
    "    Returns:\n",
    "        str: The full path to the downloaded (or existing) file.\n",
    "    \"\"\"    \n",
    "    url = urlparse(src) # We assume that this is some kind of valid URL \n",
    "    fn  = os.path.split(url.path)[-1] # Extract the filename\n",
    "    dfn = os.path.join(dest,fn) # Destination filename\n",
    "    \n",
    "    if not os.path.isfile(dfn) or os.path.getsize(dfn) < 250:\n",
    "        \n",
    "        print(f\"{dfn} not found, downloading!\")\n",
    "\n",
    "        path = os.path.split(dest)\n",
    "        \n",
    "        if len(path) >= 1 and path[0] != '':\n",
    "            os.makedirs(os.path.join(*path), exist_ok=True)\n",
    "            \n",
    "        with open(dfn, \"wb\") as file:\n",
    "            response = get(src)\n",
    "            file.write(response.content)\n",
    "            \n",
    "        print(\"\\tDone downloading...\")\n",
    "\n",
    "    else:\n",
    "        print(f\"Found {dfn} locally!\")\n",
    "\n",
    "    return dfn"
   ]
  },
  {
   "cell_type": "code",
   "execution_count": 24,
   "id": "a7c9a2a1-3d21-48e3-b891-9f3461867fdc",
   "metadata": {},
   "outputs": [],
   "source": [
    "# listing data,choose the data of 2024\n",
    "ymd  = '20240614'\n",
    "city = 'London'\n",
    "host = 'https://orca.casa.ucl.ac.uk'\n",
    "list_url  = f'{host}/~jreades/data/{ymd}-{city}-listings.parquet'\n",
    "transport_url = 'https://github.com/Chocolateyz/Chocolate/raw/refs/heads/main/Transport_Classification_of_Londoners_(TCoL)/Transport_Classification_of_Londoners_(TCoL).shp'\n",
    "inequity_url = 'https://github.com/Chocolateyz/Chocolate/raw/refs/heads/main/Borough_pages_data_UPDATE_9_2024_HACTAR(1).csv'\n",
    "pop_url = 'https://github.com/Chocolateyz/Chocolate/raw/refs/heads/main/population%20by%20borough.xlsx'\n",
    "sta_url = 'https://github.com/Chocolateyz/Chocolate/raw/refs/heads/main/London%20stations/London%20stations.shp'\n",
    "line_url = 'https://github.com/Chocolateyz/Chocolate/raw/refs/heads/main/London%20Train%20Lines/London%20Train%20Lines.shp'"
   ]
  },
  {
   "cell_type": "code",
   "execution_count": 25,
   "id": "ad6162ed-f2d6-4168-a05b-1023ba543c7e",
   "metadata": {},
   "outputs": [
    {
     "name": "stdout",
     "output_type": "stream",
     "text": [
      "Found data/raw/20240614-London-listings.parquet locally!\n",
      "Found data/raw/Borough_pages_data_UPDATE_9_2024_HACTAR(1).csv locally!\n",
      "Found data/raw/population%20by%20borough.xlsx locally!\n"
     ]
    }
   ],
   "source": [
    "# the data frame of datas\n",
    "listing_df = pd.read_parquet(cache_data(list_url, os.path.join('data','raw')))\n",
    "# inequity data\n",
    "inequity = pd.read_csv(cache_data(inequity_url, os.path.join('data','raw')),skiprows=11, header=0)\n",
    "# population data\n",
    "pop = pd.read_excel(cache_data(pop_url, os.path.join('data','raw')))\n",
    "# station point data\n",
    "station = gpd.read_file(sta_url)\n",
    "# train line data\n",
    "line = gpd.read_file(line_url)\n",
    "# transport data, spatial unit is OA(output area)\n",
    "#transport = gpd.read_file(transport_url)"
   ]
  },
  {
   "cell_type": "code",
   "execution_count": 26,
   "id": "7e76fcca-f789-46dc-bdfa-1dcb12bedbf4",
   "metadata": {},
   "outputs": [
    {
     "name": "stdout",
     "output_type": "stream",
     "text": [
      "listing data columns: ['id', 'listing_url', 'last_scraped', 'name', 'description', 'host_id', 'host_name', 'host_since', 'host_location', 'host_is_superhost', 'host_listings_count', 'host_total_listings_count', 'host_verifications', 'latitude', 'longitude', 'property_type', 'room_type', 'accommodates', 'bathrooms_text', 'bedrooms', 'beds', 'amenities', 'price', 'minimum_nights', 'maximum_nights', 'availability_365', 'number_of_reviews', 'first_review', 'last_review', 'review_scores_rating', 'reviews_per_month']\n",
      "Data frame is 85,127 x 31\n",
      "transport data columns: ['OBJECTID', 'TCOL_SEGME', 'TCOL_SEG_1', 'OA_POPULAT', 'SEGMENT_PO', 'LOAC_SUPER', 'LOAC_GROUP', 'LOAC_SUB_G', 'LOCAL_AUTH', 'PROPENSITY', 'PROPENSI_1', 'PROPENSI_2', 'PROPENSI_3', 'CAR_DRIVER', 'CAR_PASSEN', 'BUS_TRIPS_', 'TRAIN_TRIP', 'RIVER_TRIP', 'TRAM_TRIPS', 'TUBE_TRIPS', 'BICYCLE_TR', 'HIRE_BIKE_', 'DLR_TRIPS_', 'POWERED_TW', 'TAXI_PHV_T', 'WALK_TRIPS', 'CAR_AVAILA', 'AVERAGE_IN', 'STUDENT', 'NO_CHILDRE', 'NO_CHILD_1', 'NO_CHILD_2', 'WITH_CHILD', 'WITH_CHI_1', 'WITH_CHI_2', 'RETIRED', 'REDUCED_CA', 'INCREASED_', 'INCREASE_1', 'INCREASE_2', 'INCREASE_3', 'INCREASE_4', 'OA_ID', 'DATA_FILE', 'USER_GUIDE', 'METADATA', 'Shape__Are', 'Shape__Len', 'geometry']\n",
      "inequity data columns: ['Area', 'Poverty rate', 'Child poverty rate (AHC)', 'Income deprivation (relative to London overall)', '80:20 ratio of earnings', 'Main homelessness duty owed per 1,000 households', 'Households in temporary accommodation per 1,000', 'Repossessions per 1,000 households', 'Median rent as a percentage of median pay', 'Average net affordable, social and discounted housing completions', 'People seen sleeping rough by outreach', \"Proportion of borough residents' jobs that are low paid\", 'Unemployment rate', 'Unemployment rate 1 year change', 'Out-of-work benefits', '19 year olds without level 3 qualifications', 'Infant mortality rate per 1,000 live births', 'Deaths of <75 year olds per 100,000', 'Percentage of pupils who achieved grade 9-4', 'Proportion with no qualifications']\n",
      "population data columns: ['GSS_CODE', 'NAME', 'POPULATION']\n",
      "station data columns: ['Name', 'Link', 'Zone', 'Postcode', 'geometry']\n",
      "line data columns: ['Name', 'geometry']\n"
     ]
    }
   ],
   "source": [
    "# this is the columns list, if you want to focus on a certain topic, choose some of them\n",
    "# listing data\n",
    "columns_list = listing_df.columns.to_list()\n",
    "print(f'listing data columns: {columns_list}')\n",
    "print(f\"Data frame is {listing_df.shape[0]:,} x {listing_df.shape[1]}\")\n",
    "# transport data\n",
    "columns_transport = transport.columns.to_list()\n",
    "print(f'transport data columns: {columns_transport}')\n",
    "# inequity data\n",
    "columns_inequity = inequity.columns.to_list()\n",
    "print(f'inequity data columns: {columns_inequity}')\n",
    "# population data\n",
    "columns_pop = pop.columns.to_list()\n",
    "print(f'population data columns: {columns_pop}')\n",
    "# station data\n",
    "columns_station = station.columns.to_list()\n",
    "print(f'station data columns: {columns_station}')\n",
    "# line data\n",
    "columns_line = line.columns.to_list()\n",
    "print(f'line data columns: {columns_line}')"
   ]
  },
  {
   "cell_type": "code",
   "execution_count": null,
   "id": "ef501c1b-7ca7-4f83-82bc-7c7be29fb58b",
   "metadata": {},
   "outputs": [],
   "source": []
  }
 ],
 "metadata": {
  "kernelspec": {
   "display_name": "Python (base)",
   "language": "python",
   "name": "base"
  },
  "language_info": {
   "codemirror_mode": {
    "name": "ipython",
    "version": 3
   },
   "file_extension": ".py",
   "mimetype": "text/x-python",
   "name": "python",
   "nbconvert_exporter": "python",
   "pygments_lexer": "ipython3",
   "version": "3.11.9"
  }
 },
 "nbformat": 4,
 "nbformat_minor": 5
}
